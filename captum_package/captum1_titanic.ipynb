{
 "cells": [
  {
   "cell_type": "code",
   "execution_count": 2,
   "metadata": {},
   "outputs": [],
   "source": [
    "import numpy as np\n",
    "import torch\n",
    "\n",
    "from captum.attr import IntegratedGradients\n",
    "from captum.attr import LayerConductance\n",
    "from captum.attr import NeuronConductance\n",
    "\n",
    "import matplotlib\n",
    "import matplotlib.pyplot as plt\n",
    "%matplotlib inline\n",
    "\n",
    "from scipy import stats\n",
    "import pandas as pd"
   ]
  },
  {
   "cell_type": "code",
   "execution_count": 5,
   "metadata": {},
   "outputs": [
    {
     "name": "stdout",
     "output_type": "stream",
     "text": [
      "--2020-01-27 14:25:50--  http://biostat.mc.vanderbilt.edu/wiki/pub/Main/DataSets/titanic3.csv\n",
      "Resolving biostat.mc.vanderbilt.edu (biostat.mc.vanderbilt.edu)... 160.129.37.119\n",
      "Connecting to biostat.mc.vanderbilt.edu (biostat.mc.vanderbilt.edu)|160.129.37.119|:80... connected.\n",
      "HTTP request sent, awaiting response... 200 OK\n",
      "Length: 116752 (114K) [text/csv]\n",
      "Saving to: ‘titanic3.csv’\n",
      "\n",
      "titanic3.csv        100%[===================>] 114.02K  58.7KB/s    in 1.9s    \n",
      "\n",
      "2020-01-27 14:25:54 (58.7 KB/s) - ‘titanic3.csv’ saved [116752/116752]\n",
      "\n"
     ]
    }
   ],
   "source": [
    "!wget http://biostat.mc.vanderbilt.edu/wiki/pub/Main/DataSets/titanic3.csv\n",
    "# Update path to dataset here.\n",
    "dataset_path = \"titanic3.csv\""
   ]
  },
  {
   "cell_type": "code",
   "execution_count": 14,
   "metadata": {},
   "outputs": [
    {
     "data": {
      "text/html": [
       "<div>\n",
       "<style scoped>\n",
       "    .dataframe tbody tr th:only-of-type {\n",
       "        vertical-align: middle;\n",
       "    }\n",
       "\n",
       "    .dataframe tbody tr th {\n",
       "        vertical-align: top;\n",
       "    }\n",
       "\n",
       "    .dataframe thead th {\n",
       "        text-align: right;\n",
       "    }\n",
       "</style>\n",
       "<table border=\"1\" class=\"dataframe\">\n",
       "  <thead>\n",
       "    <tr style=\"text-align: right;\">\n",
       "      <th></th>\n",
       "      <th>pclass</th>\n",
       "      <th>survived</th>\n",
       "      <th>name</th>\n",
       "      <th>sex</th>\n",
       "      <th>age</th>\n",
       "      <th>sibsp</th>\n",
       "      <th>parch</th>\n",
       "      <th>ticket</th>\n",
       "      <th>fare</th>\n",
       "      <th>cabin</th>\n",
       "      <th>embarked</th>\n",
       "      <th>boat</th>\n",
       "      <th>body</th>\n",
       "      <th>home.dest</th>\n",
       "    </tr>\n",
       "  </thead>\n",
       "  <tbody>\n",
       "    <tr>\n",
       "      <th>0</th>\n",
       "      <td>1</td>\n",
       "      <td>1</td>\n",
       "      <td>Allen, Miss. Elisabeth Walton</td>\n",
       "      <td>female</td>\n",
       "      <td>29.00</td>\n",
       "      <td>0</td>\n",
       "      <td>0</td>\n",
       "      <td>24160</td>\n",
       "      <td>211.3375</td>\n",
       "      <td>B5</td>\n",
       "      <td>S</td>\n",
       "      <td>2</td>\n",
       "      <td>NaN</td>\n",
       "      <td>St Louis, MO</td>\n",
       "    </tr>\n",
       "    <tr>\n",
       "      <th>1</th>\n",
       "      <td>1</td>\n",
       "      <td>1</td>\n",
       "      <td>Allison, Master. Hudson Trevor</td>\n",
       "      <td>male</td>\n",
       "      <td>0.92</td>\n",
       "      <td>1</td>\n",
       "      <td>2</td>\n",
       "      <td>113781</td>\n",
       "      <td>151.5500</td>\n",
       "      <td>C22 C26</td>\n",
       "      <td>S</td>\n",
       "      <td>11</td>\n",
       "      <td>NaN</td>\n",
       "      <td>Montreal, PQ / Chesterville, ON</td>\n",
       "    </tr>\n",
       "    <tr>\n",
       "      <th>2</th>\n",
       "      <td>1</td>\n",
       "      <td>0</td>\n",
       "      <td>Allison, Miss. Helen Loraine</td>\n",
       "      <td>female</td>\n",
       "      <td>2.00</td>\n",
       "      <td>1</td>\n",
       "      <td>2</td>\n",
       "      <td>113781</td>\n",
       "      <td>151.5500</td>\n",
       "      <td>C22 C26</td>\n",
       "      <td>S</td>\n",
       "      <td>NaN</td>\n",
       "      <td>NaN</td>\n",
       "      <td>Montreal, PQ / Chesterville, ON</td>\n",
       "    </tr>\n",
       "    <tr>\n",
       "      <th>3</th>\n",
       "      <td>1</td>\n",
       "      <td>0</td>\n",
       "      <td>Allison, Mr. Hudson Joshua Creighton</td>\n",
       "      <td>male</td>\n",
       "      <td>30.00</td>\n",
       "      <td>1</td>\n",
       "      <td>2</td>\n",
       "      <td>113781</td>\n",
       "      <td>151.5500</td>\n",
       "      <td>C22 C26</td>\n",
       "      <td>S</td>\n",
       "      <td>NaN</td>\n",
       "      <td>135.0</td>\n",
       "      <td>Montreal, PQ / Chesterville, ON</td>\n",
       "    </tr>\n",
       "    <tr>\n",
       "      <th>4</th>\n",
       "      <td>1</td>\n",
       "      <td>0</td>\n",
       "      <td>Allison, Mrs. Hudson J C (Bessie Waldo Daniels)</td>\n",
       "      <td>female</td>\n",
       "      <td>25.00</td>\n",
       "      <td>1</td>\n",
       "      <td>2</td>\n",
       "      <td>113781</td>\n",
       "      <td>151.5500</td>\n",
       "      <td>C22 C26</td>\n",
       "      <td>S</td>\n",
       "      <td>NaN</td>\n",
       "      <td>NaN</td>\n",
       "      <td>Montreal, PQ / Chesterville, ON</td>\n",
       "    </tr>\n",
       "  </tbody>\n",
       "</table>\n",
       "</div>"
      ],
      "text/plain": [
       "   pclass  survived                                             name     sex  \\\n",
       "0       1         1                    Allen, Miss. Elisabeth Walton  female   \n",
       "1       1         1                   Allison, Master. Hudson Trevor    male   \n",
       "2       1         0                     Allison, Miss. Helen Loraine  female   \n",
       "3       1         0             Allison, Mr. Hudson Joshua Creighton    male   \n",
       "4       1         0  Allison, Mrs. Hudson J C (Bessie Waldo Daniels)  female   \n",
       "\n",
       "     age  sibsp  parch  ticket      fare    cabin embarked boat   body  \\\n",
       "0  29.00      0      0   24160  211.3375       B5        S    2    NaN   \n",
       "1   0.92      1      2  113781  151.5500  C22 C26        S   11    NaN   \n",
       "2   2.00      1      2  113781  151.5500  C22 C26        S  NaN    NaN   \n",
       "3  30.00      1      2  113781  151.5500  C22 C26        S  NaN  135.0   \n",
       "4  25.00      1      2  113781  151.5500  C22 C26        S  NaN    NaN   \n",
       "\n",
       "                         home.dest  \n",
       "0                     St Louis, MO  \n",
       "1  Montreal, PQ / Chesterville, ON  \n",
       "2  Montreal, PQ / Chesterville, ON  \n",
       "3  Montreal, PQ / Chesterville, ON  \n",
       "4  Montreal, PQ / Chesterville, ON  "
      ]
     },
     "execution_count": 14,
     "metadata": {},
     "output_type": "execute_result"
    }
   ],
   "source": [
    "# Read dataset from csv file.\n",
    "titanic_data = pd.read_csv(dataset_path)\n",
    "titanic_data.head()"
   ]
  },
  {
   "cell_type": "markdown",
   "metadata": {},
   "source": [
    "With the data loaded, we now preprocess the data by converting some categorical features such as gender, location of embarcation, and passenger class into one-hot encodings (separate feature columns for each class with 0 / 1). We also remove some features that are more difficult to analyze, such as name, and fill missing values in age and fare with the average values."
   ]
  },
  {
   "cell_type": "code",
   "execution_count": 15,
   "metadata": {},
   "outputs": [],
   "source": [
    "titanic_data = pd.concat([titanic_data,\n",
    "                          pd.get_dummies(titanic_data['sex']),\n",
    "                          pd.get_dummies(titanic_data['embarked'],prefix=\"embark\"),\n",
    "                          pd.get_dummies(titanic_data['pclass'],prefix=\"class\")], axis=1)\n",
    "titanic_data[\"age\"] = titanic_data[\"age\"].fillna(titanic_data[\"age\"].mean())\n",
    "titanic_data[\"fare\"] = titanic_data[\"fare\"].fillna(titanic_data[\"fare\"].mean())\n",
    "titanic_data = titanic_data.drop(['name','ticket','cabin','boat','body','home.dest','sex','embarked','pclass'], axis=1)"
   ]
  },
  {
   "cell_type": "code",
   "execution_count": 16,
   "metadata": {},
   "outputs": [],
   "source": [
    "# Set random seed for reproducibility.\n",
    "np.random.seed(131254)\n",
    "\n",
    "# Convert features and labels to numpy arrays.\n",
    "labels = titanic_data[\"survived\"].to_numpy()\n",
    "titanic_data = titanic_data.drop(['survived'], axis=1)\n",
    "feature_names = list(titanic_data.columns)\n",
    "data = titanic_data.to_numpy()\n",
    "\n",
    "# Separate training and test sets using \n",
    "train_indices = np.random.choice(len(labels), int(0.7*len(labels)), replace=False)\n",
    "test_indices = list(set(range(len(labels))) - set(train_indices))\n",
    "train_features = data[train_indices]\n",
    "train_labels = labels[train_indices]\n",
    "test_features = data[test_indices]\n",
    "test_labels = labels[test_indices]"
   ]
  },
  {
   "cell_type": "markdown",
   "metadata": {},
   "source": [
    "We are now ready to define the neural network architecture we will use for the task. We have defined a simple architecture using 2 hidden layers, the first with 12 hidden units and the second with 8 hidden units, each with Sigmoid non-linearity. The final layer performs a softmax operation and has 2 units, corresponding to the outputs of either survived (1) or not survived (0)."
   ]
  },
  {
   "cell_type": "code",
   "execution_count": 17,
   "metadata": {},
   "outputs": [],
   "source": [
    "import torch\n",
    "import torch.nn as nn\n",
    "torch.manual_seed(1)  # Set seed for reproducibility.\n",
    "class TitanicSimpleNNModel(nn.Module):\n",
    "    def __init__(self):\n",
    "        super().__init__()\n",
    "        self.linear1 = nn.Linear(12, 12)\n",
    "        self.sigmoid1 = nn.Sigmoid()\n",
    "        self.linear2 = nn.Linear(12, 8)\n",
    "        self.sigmoid2 = nn.Sigmoid()\n",
    "        self.linear3 = nn.Linear(8, 2)\n",
    "        self.softmax = nn.Softmax(dim=1)\n",
    "\n",
    "    def forward(self, x):\n",
    "        lin1_out = self.linear1(x)\n",
    "        sigmoid_out1 = self.sigmoid1(lin1_out)\n",
    "        sigmoid_out2 = self.sigmoid2(self.linear2(sigmoid_out1))\n",
    "        return self.softmax(self.linear3(sigmoid_out2))"
   ]
  },
  {
   "cell_type": "markdown",
   "metadata": {},
   "source": [
    "We can either use a pretrained model or train the network using the training data for 200 epochs. Note that the results of later steps may not match if retraining."
   ]
  },
  {
   "cell_type": "code",
   "execution_count": 26,
   "metadata": {
    "collapsed": true
   },
   "outputs": [
    {
     "name": "stdout",
     "output_type": "stream",
     "text": [
      "Epoch 1/2000 => Loss: 0.69\n",
      "Epoch 21/2000 => Loss: 0.68\n",
      "Epoch 41/2000 => Loss: 0.67\n",
      "Epoch 61/2000 => Loss: 0.67\n",
      "Epoch 81/2000 => Loss: 0.66\n",
      "Epoch 101/2000 => Loss: 0.66\n",
      "Epoch 121/2000 => Loss: 0.66\n",
      "Epoch 141/2000 => Loss: 0.65\n",
      "Epoch 161/2000 => Loss: 0.64\n",
      "Epoch 181/2000 => Loss: 0.64\n",
      "Epoch 201/2000 => Loss: 0.63\n",
      "Epoch 221/2000 => Loss: 0.62\n",
      "Epoch 241/2000 => Loss: 0.62\n",
      "Epoch 261/2000 => Loss: 0.61\n",
      "Epoch 281/2000 => Loss: 0.60\n",
      "Epoch 301/2000 => Loss: 0.59\n",
      "Epoch 321/2000 => Loss: 0.58\n",
      "Epoch 341/2000 => Loss: 0.57\n",
      "Epoch 361/2000 => Loss: 0.56\n",
      "Epoch 381/2000 => Loss: 0.55\n",
      "Epoch 401/2000 => Loss: 0.55\n",
      "Epoch 421/2000 => Loss: 0.54\n",
      "Epoch 441/2000 => Loss: 0.53\n",
      "Epoch 461/2000 => Loss: 0.53\n",
      "Epoch 481/2000 => Loss: 0.53\n",
      "Epoch 501/2000 => Loss: 0.52\n",
      "Epoch 521/2000 => Loss: 0.52\n",
      "Epoch 541/2000 => Loss: 0.52\n",
      "Epoch 561/2000 => Loss: 0.52\n",
      "Epoch 581/2000 => Loss: 0.51\n",
      "Epoch 601/2000 => Loss: 0.51\n",
      "Epoch 621/2000 => Loss: 0.51\n",
      "Epoch 641/2000 => Loss: 0.51\n",
      "Epoch 661/2000 => Loss: 0.51\n",
      "Epoch 681/2000 => Loss: 0.51\n",
      "Epoch 701/2000 => Loss: 0.51\n",
      "Epoch 721/2000 => Loss: 0.50\n",
      "Epoch 741/2000 => Loss: 0.50\n",
      "Epoch 761/2000 => Loss: 0.50\n",
      "Epoch 781/2000 => Loss: 0.50\n",
      "Epoch 801/2000 => Loss: 0.50\n",
      "Epoch 821/2000 => Loss: 0.50\n",
      "Epoch 841/2000 => Loss: 0.50\n",
      "Epoch 861/2000 => Loss: 0.50\n",
      "Epoch 881/2000 => Loss: 0.50\n",
      "Epoch 901/2000 => Loss: 0.50\n",
      "Epoch 921/2000 => Loss: 0.50\n",
      "Epoch 941/2000 => Loss: 0.50\n",
      "Epoch 961/2000 => Loss: 0.50\n",
      "Epoch 981/2000 => Loss: 0.49\n",
      "Epoch 1001/2000 => Loss: 0.49\n",
      "Epoch 1021/2000 => Loss: 0.49\n",
      "Epoch 1041/2000 => Loss: 0.49\n",
      "Epoch 1061/2000 => Loss: 0.49\n",
      "Epoch 1081/2000 => Loss: 0.49\n",
      "Epoch 1101/2000 => Loss: 0.49\n",
      "Epoch 1121/2000 => Loss: 0.49\n",
      "Epoch 1141/2000 => Loss: 0.49\n",
      "Epoch 1161/2000 => Loss: 0.49\n",
      "Epoch 1181/2000 => Loss: 0.49\n",
      "Epoch 1201/2000 => Loss: 0.49\n",
      "Epoch 1221/2000 => Loss: 0.49\n",
      "Epoch 1241/2000 => Loss: 0.49\n",
      "Epoch 1261/2000 => Loss: 0.49\n",
      "Epoch 1281/2000 => Loss: 0.49\n",
      "Epoch 1301/2000 => Loss: 0.49\n",
      "Epoch 1321/2000 => Loss: 0.48\n",
      "Epoch 1341/2000 => Loss: 0.48\n",
      "Epoch 1361/2000 => Loss: 0.48\n",
      "Epoch 1381/2000 => Loss: 0.48\n",
      "Epoch 1401/2000 => Loss: 0.48\n",
      "Epoch 1421/2000 => Loss: 0.48\n",
      "Epoch 1441/2000 => Loss: 0.48\n",
      "Epoch 1461/2000 => Loss: 0.48\n",
      "Epoch 1481/2000 => Loss: 0.48\n",
      "Epoch 1501/2000 => Loss: 0.48\n",
      "Epoch 1521/2000 => Loss: 0.48\n",
      "Epoch 1541/2000 => Loss: 0.48\n",
      "Epoch 1561/2000 => Loss: 0.48\n",
      "Epoch 1581/2000 => Loss: 0.48\n",
      "Epoch 1601/2000 => Loss: 0.48\n",
      "Epoch 1621/2000 => Loss: 0.48\n",
      "Epoch 1641/2000 => Loss: 0.48\n",
      "Epoch 1661/2000 => Loss: 0.48\n",
      "Epoch 1681/2000 => Loss: 0.48\n",
      "Epoch 1701/2000 => Loss: 0.48\n",
      "Epoch 1721/2000 => Loss: 0.48\n",
      "Epoch 1741/2000 => Loss: 0.48\n",
      "Epoch 1761/2000 => Loss: 0.48\n",
      "Epoch 1781/2000 => Loss: 0.48\n",
      "Epoch 1801/2000 => Loss: 0.48\n",
      "Epoch 1821/2000 => Loss: 0.48\n",
      "Epoch 1841/2000 => Loss: 0.48\n",
      "Epoch 1861/2000 => Loss: 0.48\n",
      "Epoch 1881/2000 => Loss: 0.47\n",
      "Epoch 1901/2000 => Loss: 0.47\n",
      "Epoch 1921/2000 => Loss: 0.47\n",
      "Epoch 1941/2000 => Loss: 0.47\n",
      "Epoch 1961/2000 => Loss: 0.47\n",
      "Epoch 1981/2000 => Loss: 0.47\n",
      "model training complete\n"
     ]
    }
   ],
   "source": [
    "net = TitanicSimpleNNModel()\n",
    "USE_PRETRAINED_MODEL = False\n",
    "\n",
    "if USE_PRETRAINED_MODEL:\n",
    "    net.load_state_dict(torch.load('models/titanic_model.pt'))\n",
    "    print(\"Model Loaded!\")\n",
    "else:\n",
    "    criterion = nn.CrossEntropyLoss()\n",
    "    num_epochs = 2000\n",
    "\n",
    "    optimizer = torch.optim.Adam(net.parameters(), lr=0.001)\n",
    "    input_tensor = torch.from_numpy(train_features).type(torch.FloatTensor)\n",
    "    label_tensor = torch.from_numpy(train_labels)\n",
    "    for epoch in range(num_epochs):    \n",
    "        output = net(input_tensor)\n",
    "        loss = criterion(output, label_tensor)\n",
    "        optimizer.zero_grad()\n",
    "        loss.backward()\n",
    "        optimizer.step()\n",
    "        if epoch % 20 == 0:\n",
    "            print ('Epoch {}/{} => Loss: {:.2f}'.format(epoch+1, num_epochs, loss.item()))\n",
    "\n",
    "    torch.save(net.state_dict(), 'models/titanic_model_lr0001.pt')\n",
    "    print(\"model training complete\")"
   ]
  },
  {
   "cell_type": "code",
   "execution_count": 27,
   "metadata": {},
   "outputs": [
    {
     "name": "stdout",
     "output_type": "stream",
     "text": [
      "Train Accuracy: 0.8406113537117904\n"
     ]
    }
   ],
   "source": [
    "out_probs = net(input_tensor).detach().numpy()\n",
    "out_classes = np.argmax(out_probs, axis=1)\n",
    "print(\"Train Accuracy:\", sum(out_classes == train_labels) / len(train_labels))"
   ]
  },
  {
   "cell_type": "code",
   "execution_count": 28,
   "metadata": {},
   "outputs": [
    {
     "name": "stdout",
     "output_type": "stream",
     "text": [
      "Test Accuracy: 0.8040712468193384\n"
     ]
    }
   ],
   "source": [
    "test_input_tensor = torch.from_numpy(test_features).type(torch.FloatTensor)\n",
    "out_probs = net(test_input_tensor).detach().numpy()\n",
    "out_classes = np.argmax(out_probs, axis=1)\n",
    "print(\"Test Accuracy:\", sum(out_classes == test_labels) / len(test_labels))"
   ]
  },
  {
   "cell_type": "code",
   "execution_count": 29,
   "metadata": {},
   "outputs": [],
   "source": [
    "ig = IntegratedGradients(net)"
   ]
  },
  {
   "cell_type": "code",
   "execution_count": 30,
   "metadata": {},
   "outputs": [],
   "source": [
    "test_input_tensor.requires_grad_()\n",
    "attr, delta = ig.attribute(test_input_tensor,target=1, return_convergence_delta=True)\n",
    "attr = attr.detach().numpy()"
   ]
  },
  {
   "cell_type": "code",
   "execution_count": 31,
   "metadata": {},
   "outputs": [
    {
     "name": "stdout",
     "output_type": "stream",
     "text": [
      "Average Feature Importances\n",
      "age :  -0.386\n",
      "sibsp :  -0.057\n",
      "parch :  -0.016\n",
      "fare :  0.101\n",
      "female :  0.074\n",
      "male :  -0.309\n",
      "embark_C :  0.045\n",
      "embark_Q :  0.001\n",
      "embark_S :  -0.090\n",
      "class_1 :  0.077\n",
      "class_2 :  0.027\n",
      "class_3 :  -0.151\n"
     ]
    },
    {
     "data": {
      "image/png": "[encoded data removed]",
      "text/plain": [
       "<Figure size 864x432 with 1 Axes>"
      ]
     },
     "metadata": {
      "needs_background": "light"
     },
     "output_type": "display_data"
    }
   ],
   "source": [
    "# Helper method to print importances and visualize distribution\n",
    "def visualize_importances(feature_names, importances, title=\"Average Feature Importances\", plot=True, axis_title=\"Features\"):\n",
    "    print(title)\n",
    "    for i in range(len(feature_names)):\n",
    "        print(feature_names[i], \": \", '%.3f'%(importances[i]))\n",
    "    x_pos = (np.arange(len(feature_names)))\n",
    "    if plot:\n",
    "        plt.figure(figsize=(12,6))\n",
    "        plt.bar(x_pos, importances, align='center')\n",
    "        plt.xticks(x_pos, feature_names, wrap=True)\n",
    "        plt.xlabel(axis_title)\n",
    "        plt.title(title)\n",
    "visualize_importances(feature_names, np.mean(attr, axis=0))"
   ]
  },
  {
   "cell_type": "markdown",
   "metadata": {},
   "source": [
    "From the feature attribution information, we obtain some interesting insights regarding the importance of various features. We see that the strongest features appear to be age and being male, which are negatively correlated with survival. Embarking at Queenstown and the number of parents / children appear to be less important features generally.\n",
    "\n",
    "An important thing to note is that the average attributions over the test set don't necessarilly capture all the information regarding feature importances. We should also look at the distribution of attributions for each feature. It is possible that features have very different attributions for different examples in the dataset.\n",
    "\n",
    "For instance, we can visualize the distribution of attributions for sibsp, the number of siblings / spouses."
   ]
  },
  {
   "cell_type": "code",
   "execution_count": 32,
   "metadata": {},
   "outputs": [
    {
     "data": {
      "image/png": "[encoded data removed]",
      "text/plain": [
       "<Figure size 432x288 with 1 Axes>"
      ]
     },
     "metadata": {
      "needs_background": "light"
     },
     "output_type": "display_data"
    }
   ],
   "source": [
    "plt.hist(attr[:,1], 100);\n",
    "plt.title(\"Distribution of Sibsp Attribution Values\");"
   ]
  },
  {
   "cell_type": "markdown",
   "metadata": {},
   "source": [
    "We note that a vast majority of the examples have an attribution value of 0 for sibsp, which likely corresponds to having a value of 0 for the feature (IntegratedGradients would provide an attribution of 0 when the feature value matches the baseline of 0). More significantly, we see that although the average seems smaller in magnitude in the plot above, there are a small number of examples with extremely negative attributions for this feature.\n",
    "\n",
    "To better understand this, we can bucket the examples by the value of the sibsp feature and plot the average attribution for the feature. In the plot below, the size of the dot is proportional to the number of examples with that value."
   ]
  },
  {
   "cell_type": "code",
   "execution_count": 33,
   "metadata": {},
   "outputs": [
    {
     "data": {
      "image/png": "[encoded data removed]",
      "text/plain": [
       "<Figure size 432x288 with 1 Axes>"
      ]
     },
     "metadata": {
      "needs_background": "light"
     },
     "output_type": "display_data"
    }
   ],
   "source": [
    "bin_means, bin_edges, _ = stats.binned_statistic(test_features[:,1], attr[:,1], statistic='mean', bins=6)\n",
    "bin_count, _, _ = stats.binned_statistic(test_features[:,1], attr[:,1], statistic='count', bins=6)\n",
    "\n",
    "bin_width = (bin_edges[1] - bin_edges[0])\n",
    "bin_centers = bin_edges[1:] - bin_width/2\n",
    "plt.scatter(bin_centers, bin_means, s=bin_count)\n",
    "plt.xlabel(\"Average Sibsp Feature Value\");\n",
    "plt.ylabel(\"Average Attribution\");"
   ]
  },
  {
   "cell_type": "markdown",
   "metadata": {},
   "source": [
    "We see that the larger magnitude attributions correspond to the examples with larger Sibsp feature values, suggesting that the feature has a larger impact on prediction for these examples. Since there are substantially fewer of these examples (compared to those with a feature value of 0), the average attribution does not completely capture this effect.\n",
    "\n",
    "Now that we have a better understanding of the importance of different input features, the next question we can ask regarding the function of the neural network is how the different neurons in each layer work together to reach the prediction. For instance, in our first hidden layer output containing 12 units, are all the units used for prediction? Do some units learn features positively correlated with survival while others learn features negatively correlated with survival?\n",
    "\n",
    "This leads us to the second type of attributions available in Captum, Layer Attributions. Layer attributions allow us to understand the importance of all the neurons in the output of a particular layer. For this example, we will be using Layer Conductance, one of the Layer Attribution methods in Captum, which is an extension of Integrated Gradients applied to hidden neurons. More information regarding conductance can be found in the original paper here: https://arxiv.org/abs/1805.12233.\n",
    "\n",
    "To use Layer Conductance, we create a LayerConductance object passing in the model as well as the module (layer) whose output we would like to understand. In this case, we choose net.sigmoid1, the output of the first hidden layer."
   ]
  },
  {
   "cell_type": "code",
   "execution_count": 34,
   "metadata": {},
   "outputs": [],
   "source": [
    "cond = LayerConductance(net, net.sigmoid1)"
   ]
  },
  {
   "cell_type": "markdown",
   "metadata": {},
   "source": [
    "We can now obtain the conductance values for all the test examples by calling attribute on the LayerConductance object. LayerConductance also requires a target index for networks with mutliple outputs, defining the index of the output for which gradients are computed. Similar to feature attributions, we provide target = 1, corresponding to survival. LayerConductance also utilizes a baseline, but we simply use the default zero baseline as in integrated gradients."
   ]
  },
  {
   "cell_type": "code",
   "execution_count": 35,
   "metadata": {},
   "outputs": [],
   "source": [
    "cond_vals = cond.attribute(test_input_tensor,target=1)\n",
    "cond_vals = cond_vals.detach().numpy()"
   ]
  },
  {
   "cell_type": "code",
   "execution_count": 36,
   "metadata": {},
   "outputs": [
    {
     "name": "stdout",
     "output_type": "stream",
     "text": [
      "Average Neuron Importances\n",
      "0 :  -0.072\n",
      "1 :  -0.044\n",
      "2 :  -0.067\n",
      "3 :  -0.023\n",
      "4 :  -0.102\n",
      "5 :  -0.084\n",
      "6 :  -0.011\n",
      "7 :  -0.001\n",
      "8 :  -0.083\n",
      "9 :  -0.058\n",
      "10 :  -0.068\n",
      "11 :  -0.063\n"
     ]
    },
    {
     "data": {
      "image/png": "[encoded data removed]",
      "text/plain": [
       "<Figure size 864x432 with 1 Axes>"
      ]
     },
     "metadata": {
      "needs_background": "light"
     },
     "output_type": "display_data"
    }
   ],
   "source": [
    "visualize_importances(range(12),np.mean(cond_vals, axis=0),title=\"Average Neuron Importances\", axis_title=\"Neurons\")"
   ]
  },
  {
   "cell_type": "markdown",
   "metadata": {},
   "source": [
    "We can also look at the distribution of each neuron's attributions. Below we look at the distributions for neurons 7 and 9, and we can confirm that their attribution distributions are very close to 0, suggesting they are not learning substantial features.\n",
    "Note due to retraining here we focus on neuron 7 only"
   ]
  },
  {
   "cell_type": "code",
   "execution_count": 37,
   "metadata": {},
   "outputs": [
    {
     "data": {
      "image/png": "[encoded data removed]",
      "text/plain": [
       "<Figure size 432x288 with 1 Axes>"
      ]
     },
     "metadata": {
      "needs_background": "light"
     },
     "output_type": "display_data"
    },
    {
     "data": {
      "image/png": "[encoded data removed]",
      "text/plain": [
       "<Figure size 432x288 with 1 Axes>"
      ]
     },
     "metadata": {
      "needs_background": "light"
     },
     "output_type": "display_data"
    }
   ],
   "source": [
    "plt.hist(cond_vals[:,9], 100);\n",
    "plt.title(\"Neuron 9 Distribution\")\n",
    "plt.figure()\n",
    "plt.hist(cond_vals[:,7], 100);\n",
    "plt.title(\"Neuron 7 Distribution\");"
   ]
  },
  {
   "cell_type": "markdown",
   "metadata": {},
   "source": [
    "Now, we can look at the distributions of neurons 0 and 10, which appear to be learning strong features negatively correlated with survival."
   ]
  },
  {
   "cell_type": "code",
   "execution_count": 40,
   "metadata": {},
   "outputs": [
    {
     "data": {
      "image/png": "[encoded data removed]",
      "text/plain": [
       "<Figure size 432x288 with 1 Axes>"
      ]
     },
     "metadata": {
      "needs_background": "light"
     },
     "output_type": "display_data"
    },
    {
     "data": {
      "image/png": "[encoded data removed]",
      "text/plain": [
       "<Figure size 432x288 with 1 Axes>"
      ]
     },
     "metadata": {
      "needs_background": "light"
     },
     "output_type": "display_data"
    },
    {
     "data": {
      "image/png": "[encoded data removed]",
      "text/plain": [
       "<Figure size 432x288 with 1 Axes>"
      ]
     },
     "metadata": {
      "needs_background": "light"
     },
     "output_type": "display_data"
    },
    {
     "data": {
      "image/png": "[encoded data removed]",
      "text/plain": [
       "<Figure size 432x288 with 1 Axes>"
      ]
     },
     "metadata": {
      "needs_background": "light"
     },
     "output_type": "display_data"
    },
    {
     "data": {
      "image/png": "[encoded data removed]",
      "text/plain": [
       "<Figure size 432x288 with 1 Axes>"
      ]
     },
     "metadata": {
      "needs_background": "light"
     },
     "output_type": "display_data"
    },
    {
     "data": {
      "image/png": "[encoded data removed]",
      "text/plain": [
       "<Figure size 432x288 with 1 Axes>"
      ]
     },
     "metadata": {
      "needs_background": "light"
     },
     "output_type": "display_data"
    },
    {
     "data": {
      "image/png": "[encoded data removed]",
      "text/plain": [
       "<Figure size 432x288 with 1 Axes>"
      ]
     },
     "metadata": {
      "needs_background": "light"
     },
     "output_type": "display_data"
    },
    {
     "data": {
      "image/png": "[encoded data removed]",
      "text/plain": [
       "<Figure size 432x288 with 1 Axes>"
      ]
     },
     "metadata": {
      "needs_background": "light"
     },
     "output_type": "display_data"
    }
   ],
   "source": [
    "plt.hist(cond_vals[:,0], 100);\n",
    "plt.title(\"Neuron 0 Distribution\")\n",
    "plt.figure()\n",
    "plt.hist(cond_vals[:,1], 100);\n",
    "plt.title(\"Neuron 1 Distribution\")\n",
    "plt.figure()\n",
    "plt.hist(cond_vals[:,2], 100);\n",
    "plt.title(\"Neuron 2 Distribution\")\n",
    "plt.figure()\n",
    "plt.hist(cond_vals[:,3], 100);\n",
    "plt.title(\"Neuron 3 Distribution\")\n",
    "plt.figure()\n",
    "plt.hist(cond_vals[:,4], 100);\n",
    "plt.title(\"Neuron 4 Distribution\")\n",
    "plt.figure()\n",
    "plt.hist(cond_vals[:,5], 100);\n",
    "plt.title(\"Neuron 5 Distribution\")\n",
    "plt.figure()\n",
    "plt.hist(cond_vals[:,6], 100);\n",
    "plt.title(\"Neuron 6 Distribution\")\n",
    "plt.figure()\n",
    "plt.hist(cond_vals[:,10], 100);\n",
    "plt.title(\"Neuron 10 Distribution\");"
   ]
  },
  {
   "cell_type": "markdown",
   "metadata": {},
   "source": [
    "We have identified that some of the neurons are not learning important features, while others are. Can we now understand what each of these important neurons are looking at in the input? For instance, are they identifying different features in the input or similar ones?\n",
    "\n",
    "To answer these questions, we can apply the third type of attributions available in Captum, Neuron Attributions. This allows us to understand what parts of the input contribute to activating a particular input neuron. For this example, we will apply Neuron Conductance, which divides the neuron's total conductance value into the contribution from each individual input feature.\n",
    "\n",
    "To use Neuron Conductance, we create a NeuronConductance object, analogously to Conductance, passing in the model as well as the module (layer) whose output we would like to understand, in this case, net.sigmoid1, as before."
   ]
  },
  {
   "cell_type": "code",
   "execution_count": 41,
   "metadata": {},
   "outputs": [],
   "source": [
    "neuron_cond = NeuronConductance(net, net.sigmoid1)"
   ]
  },
  {
   "cell_type": "markdown",
   "metadata": {},
   "source": [
    "We can now obtain the neuron conductance values for all the test examples by calling attribute on the NeuronConductance object. Neuron Conductance requires the neuron index in the target layer for which attributions are requested as well as the target index for networks with mutliple outputs, similar to layer conductance. As before, we provide target = 1, corresponding to survival, and compute neuron conductance for neurons 0 and 10, the significant neurons identified above. The neuron index can be provided either as a tuple or as just an integer if the layer output is 1-dimensional.\n",
    "\n"
   ]
  },
  {
   "cell_type": "code",
   "execution_count": 42,
   "metadata": {},
   "outputs": [],
   "source": [
    "neuron_cond_vals_10 = neuron_cond.attribute(test_input_tensor, neuron_index=10, target=1)"
   ]
  },
  {
   "cell_type": "code",
   "execution_count": 43,
   "metadata": {},
   "outputs": [],
   "source": [
    "neuron_cond_vals_0 = neuron_cond.attribute(test_input_tensor, neuron_index=0, target=1)"
   ]
  },
  {
   "cell_type": "code",
   "execution_count": 44,
   "metadata": {},
   "outputs": [
    {
     "name": "stdout",
     "output_type": "stream",
     "text": [
      "Average Feature Importances for Neuron 0\n",
      "age :  0.001\n",
      "sibsp :  -0.002\n",
      "parch :  -0.000\n",
      "fare :  -0.035\n",
      "female :  0.011\n",
      "male :  -0.027\n",
      "embark_C :  0.012\n",
      "embark_Q :  -0.002\n",
      "embark_S :  -0.006\n",
      "class_1 :  0.010\n",
      "class_2 :  0.001\n",
      "class_3 :  -0.035\n"
     ]
    },
    {
     "data": {
      "image/png": "[encoded data removed]",
      "text/plain": [
       "<Figure size 864x432 with 1 Axes>"
      ]
     },
     "metadata": {
      "needs_background": "light"
     },
     "output_type": "display_data"
    }
   ],
   "source": [
    "visualize_importances(feature_names, neuron_cond_vals_0.mean(dim=0).detach().numpy(), title=\"Average Feature Importances for Neuron 0\")"
   ]
  },
  {
   "cell_type": "markdown",
   "metadata": {},
   "source": [
    "From the data above, it appears that the primary input feature used by neuron 0 is age, with limited importance for all other features."
   ]
  },
  {
   "cell_type": "code",
   "execution_count": 45,
   "metadata": {},
   "outputs": [
    {
     "name": "stdout",
     "output_type": "stream",
     "text": [
      "Average Feature Importances for Neuron 10\n",
      "age :  -0.048\n",
      "sibsp :  0.009\n",
      "parch :  0.008\n",
      "fare :  -0.004\n",
      "female :  0.004\n",
      "male :  -0.030\n",
      "embark_C :  0.008\n",
      "embark_Q :  0.003\n",
      "embark_S :  -0.018\n",
      "class_1 :  0.007\n",
      "class_2 :  -0.005\n",
      "class_3 :  -0.000\n"
     ]
    },
    {
     "data": {
      "image/png": "[encoded data removed]",
      "text/plain": [
       "<Figure size 864x432 with 1 Axes>"
      ]
     },
     "metadata": {
      "needs_background": "light"
     },
     "output_type": "display_data"
    }
   ],
   "source": [
    "visualize_importances(feature_names, neuron_cond_vals_10.mean(dim=0).detach().numpy(), title=\"Average Feature Importances for Neuron 10\")"
   ]
  },
  {
   "cell_type": "markdown",
   "metadata": {},
   "source": [
    "From the visualization above, it is evident that neuron 10 primarily relies on the gender and class features, substantially different from the focus of neuron 0."
   ]
  },
  {
   "cell_type": "code",
   "execution_count": null,
   "metadata": {},
   "outputs": [],
   "source": []
  }
 ],
 "metadata": {
  "kernelspec": {
   "display_name": "Python 3",
   "language": "python",
   "name": "python3"
  },
  "language_info": {
   "codemirror_mode": {
    "name": "ipython",
    "version": 3
   },
   "file_extension": ".py",
   "mimetype": "text/x-python",
   "name": "python",
   "nbconvert_exporter": "python",
   "pygments_lexer": "ipython3",
   "version": "3.7.6"
  }
 },
 "nbformat": 4,
 "nbformat_minor": 4
}
